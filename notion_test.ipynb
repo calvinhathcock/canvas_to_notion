{
 "cells": [
  {
   "cell_type": "code",
   "execution_count": 1,
   "metadata": {},
   "outputs": [
    {
     "name": "stdout",
     "output_type": "stream",
     "text": [
      "{\"object\":\"page\",\"id\":\"4598c997-7d87-4987-9498-74102461aadf\",\"created_time\":\"2022-08-22T21:02:00.000Z\",\"last_edited_time\":\"2022-08-22T21:02:00.000Z\",\"created_by\":{\"object\":\"user\",\"id\":\"d7b3b092-e44b-4fe7-80b5-132303f85aca\"},\"last_edited_by\":{\"object\":\"user\",\"id\":\"d7b3b092-e44b-4fe7-80b5-132303f85aca\"},\"cover\":null,\"icon\":null,\"parent\":{\"type\":\"database_id\",\"database_id\":\"df1fc9ed-6748-4cf7-bd9c-09e11eca23a2\"},\"archived\":false,\"properties\":{\"Description\":{\"id\":\"%3B%5C%7CA\"},\"Course\":{\"id\":\"P%3E%3FT\"},\"Due Date\":{\"id\":\"afRV\"},\"Name\":{\"id\":\"title\"}},\"url\":\"https://www.notion.so/Test-4598c9977d874987949874102461aadf\"}\n"
     ]
    }
   ],
   "source": [
    "url = \"https://api.notion.com/v1/pages\"\n",
    "\n",
    "\n",
    "headers = {\n",
    "    \"Accept\": \"application/json\",\n",
    "    \"Notion-Version\": \"2022-06-28\",\n",
    "    \"Content-Type\": \"application/json\",\n",
    "    \"Authorization\": f\"Bearer {notion_token}\"\n",
    "}\n",
    "\n",
    "#properties reference: https://developers.notion.com/reference/property-value-object\n",
    "data = { \n",
    "    \"parent\": { \"database_id\": db_id },\n",
    "    \"properties\": {\n",
    "        \"Name\": {\n",
    "            \"title\": [\n",
    "                {\n",
    "                    \"text\": {\n",
    "                        \"content\": \"Test\"\n",
    "                    }\n",
    "                }\n",
    "            ]\n",
    "        },\n",
    "        \"Course\": {\n",
    "            \"multi_select\": [\n",
    "                {\n",
    "                    \"name\": \"STAT 3160\"\n",
    "                }\n",
    "            ]\n",
    "        },\n",
    "        \"Due Date\": {\n",
    "            \"date\": {\n",
    "                \"start\": \"2021-04-26\"\n",
    "            }\n",
    "        },\n",
    "        \"Description\": {\n",
    "            \"rich_text\": [{\n",
    "                \"type\": \"text\",\n",
    "                \"text\": {\n",
    "                    \"content\": \"test\"\n",
    "                }\n",
    "            }]\n",
    "        }\n",
    "    }\n",
    "}\n",
    "\n",
    "data = json.dumps(data)\n",
    "\n",
    "res = requests.request(\"POST\", url, headers=headers, data=data)\n",
    "print(res.text)\n"
   ]
  },
  {
   "cell_type": "code",
   "execution_count": 2,
   "metadata": {},
   "outputs": [],
   "source": [
    "import requests\n",
    "import dotenv\n",
    "import os\n",
    "import json\n",
    "\n",
    "dotenv.load_dotenv()\n",
    "\n",
    "db_id = os.environ.get(\"NOTION_DB_ID\")\n",
    "notion_token = os.environ.get(\"NOTION_TOKEN\")"
   ]
  },
  {
   "cell_type": "code",
   "execution_count": 3,
   "metadata": {},
   "outputs": [],
   "source": [
    "url = f\"https://api.notion.com/v1/databases/{db_id}\"\n",
    "\n",
    "\n",
    "headers = {\n",
    "\n",
    "    \"Accept\": \"application/json\",\n",
    "\n",
    "    \"Notion-Version\": \"2022-06-28\",\n",
    "\n",
    "    \"Authorization\": f\"Bearer {notion_token}\"\n",
    "}\n",
    "\n",
    "\n",
    "response = requests.get(url, headers=headers)"
   ]
  },
  {
   "cell_type": "code",
   "execution_count": 9,
   "metadata": {},
   "outputs": [],
   "source": [
    "body = response.json()"
   ]
  },
  {
   "cell_type": "code",
   "execution_count": 15,
   "metadata": {},
   "outputs": [
    {
     "data": {
      "text/plain": [
       "[]"
      ]
     },
     "execution_count": 15,
     "metadata": {},
     "output_type": "execute_result"
    }
   ],
   "source": [
    "body['description']"
   ]
  }
 ],
 "metadata": {
  "interpreter": {
   "hash": "d5a701228efb786e5fc9bf23ec6e9ba3a4a104b7ee990928ba07bca394b056cb"
  },
  "kernelspec": {
   "display_name": "Python 3.10.4 ('.venv': venv)",
   "language": "python",
   "name": "python3"
  },
  "language_info": {
   "codemirror_mode": {
    "name": "ipython",
    "version": 3
   },
   "file_extension": ".py",
   "mimetype": "text/x-python",
   "name": "python",
   "nbconvert_exporter": "python",
   "pygments_lexer": "ipython3",
   "version": "3.10.4"
  },
  "orig_nbformat": 4
 },
 "nbformat": 4,
 "nbformat_minor": 2
}
