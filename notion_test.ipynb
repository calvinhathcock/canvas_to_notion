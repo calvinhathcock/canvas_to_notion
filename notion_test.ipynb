{
 "cells": [
  {
   "cell_type": "code",
   "execution_count": 3,
   "metadata": {},
   "outputs": [
    {
     "name": "stdout",
     "output_type": "stream",
     "text": [
      "{\"object\":\"error\",\"status\":400,\"code\":\"validation_error\",\"message\":\"body failed validation. Fix one:\\nbody.parent.database_id should be a valid uuid, instead was `\\\"df1fc9ed67484cf7bd9c09e11eca23a2?v=25ba2974ed3c4e7493a...`.\\nbody.parent.page_id should be defined, instead was `undefined`.\"}\n"
     ]
    }
   ],
   "source": [
    "import requests\n",
    "import dotenv\n",
    "import os\n",
    "import json\n",
    "\n",
    "dotenv.load_dotenv()\n",
    "\n",
    "db_id = os.environ.get(\"NOTION_DB_ID\")\n",
    "notion_token = os.environ.get(\"NOTION_TOKEN\")\n",
    "\n",
    "\n",
    "\n",
    "url = \"https://api.notion.com/v1/pages\"\n",
    "\n",
    "\n",
    "headers = {\n",
    "    \"Accept\": \"application/json\",\n",
    "    \"Notion-Version\": \"2022-06-28\",\n",
    "    \"Content-Type\": \"application/json\",\n",
    "    \"Authorization\": f\"Bearer {notion_token}\"\n",
    "}\n",
    "\n",
    "#properties reference: https://developers.notion.com/reference/property-value-object\n",
    "data = { \n",
    "    \"parent\": { \"database_id\": db_id },\n",
    "    \"properties\": {\n",
    "        \"Name\": {\n",
    "            \"title\": [\n",
    "                {\n",
    "                    \"text\": {\n",
    "                        \"content\": \"Test\"\n",
    "                    }\n",
    "                }\n",
    "            ]\n",
    "        },\n",
    "        \"Course\": {\n",
    "            \"multi_select\": [\n",
    "                {\n",
    "                    \"name\": \"STAT 3160\"\n",
    "                }\n",
    "            ]\n",
    "        },\n",
    "        \"Due Date\": {\n",
    "            \"date\": {\n",
    "                \"start\": \"2021-04-26\"\n",
    "            }\n",
    "        },\n",
    "        \"Description\": {\n",
    "            \"rich_text\": [{\n",
    "                \"type\": \"text\",\n",
    "                \"text\": {\n",
    "                    \"content\": \"test\"\n",
    "                }\n",
    "            }]\n",
    "        }\n",
    "    }\n",
    "}\n",
    "\n",
    "data = json.dumps(data)\n",
    "\n",
    "res = requests.request(\"POST\", url, headers=headers, data=data)\n",
    "print(res.text)\n"
   ]
  },
  {
   "cell_type": "code",
   "execution_count": 4,
   "metadata": {},
   "outputs": [
    {
     "data": {
      "text/plain": [
       "'df1fc9ed67484cf7bd9c09e11eca23a2?v=25ba2974ed3c4e7493a8e67e8a8f5912'"
      ]
     },
     "execution_count": 4,
     "metadata": {},
     "output_type": "execute_result"
    }
   ],
   "source": [
    "db_id"
   ]
  }
 ],
 "metadata": {
  "interpreter": {
   "hash": "d5a701228efb786e5fc9bf23ec6e9ba3a4a104b7ee990928ba07bca394b056cb"
  },
  "kernelspec": {
   "display_name": "Python 3.10.4 ('.venv': venv)",
   "language": "python",
   "name": "python3"
  },
  "language_info": {
   "codemirror_mode": {
    "name": "ipython",
    "version": 3
   },
   "file_extension": ".py",
   "mimetype": "text/x-python",
   "name": "python",
   "nbconvert_exporter": "python",
   "pygments_lexer": "ipython3",
   "version": "3.10.4"
  },
  "orig_nbformat": 4
 },
 "nbformat": 4,
 "nbformat_minor": 2
}
