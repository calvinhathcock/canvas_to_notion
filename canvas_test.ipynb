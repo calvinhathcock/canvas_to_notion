{
 "cells": [
  {
   "cell_type": "markdown",
   "metadata": {},
   "source": [
    "import requests\n",
    "import json"
   ]
  },
  {
   "cell_type": "markdown",
   "metadata": {},
   "source": [
    "token = open(\"canvas_token\", \"r\").read().strip('\\n')\n",
    "\n",
    "headers = requests.structures.CaseInsensitiveDict()\n",
    "headers[\"Accept\"] = \"application/json\"\n",
    "headers[\"Authorization\"] = token\n",
    "\n",
    "response = requests.get(\n",
    "    url= \"https://uncc.instructure.com/api/v1/users/177613/todo\",\n",
    "    headers = headers\n",
    ")\n",
    "\n"
   ]
  },
  {
   "cell_type": "code",
   "execution_count": 53,
   "metadata": {},
   "outputs": [],
   "source": [
    "from canvasapi import Canvas\n",
    "import dotenv\n",
    "import os"
   ]
  },
  {
   "cell_type": "code",
   "execution_count": 54,
   "metadata": {},
   "outputs": [],
   "source": [
    "dotenv.load_dotenv()\n",
    "\n",
    "API_URL = os.environ.get(\"URL\")\n",
    "API_KEY = os.environ.get(\"CANVAS_TOKEN\")\n",
    "\n",
    "canvas = Canvas(API_URL, API_KEY)"
   ]
  },
  {
   "cell_type": "code",
   "execution_count": 55,
   "metadata": {},
   "outputs": [],
   "source": [
    "todo = canvas.get_todo_items()"
   ]
  },
  {
   "cell_type": "code",
   "execution_count": 56,
   "metadata": {},
   "outputs": [],
   "source": [
    "todo = list(todo)"
   ]
  },
  {
   "cell_type": "code",
   "execution_count": 57,
   "metadata": {},
   "outputs": [
    {
     "data": {
      "text/plain": [
       "4"
      ]
     },
     "execution_count": 57,
     "metadata": {},
     "output_type": "execute_result"
    }
   ],
   "source": [
    "len(todo)"
   ]
  },
  {
   "cell_type": "code",
   "execution_count": 58,
   "metadata": {},
   "outputs": [],
   "source": [
    "item = todo[1]"
   ]
  },
  {
   "cell_type": "code",
   "execution_count": 59,
   "metadata": {},
   "outputs": [
    {
     "data": {
      "text/plain": [
       "Todo(_requester=<canvasapi.requester.Requester object at 0x7f0428442e60>, context_type=Course, course_id=176637, context_name=202280-Fall 2022-ITCS-3162-001-Introduction to Data Mining, type=grading, ignore=https://uncc.instructure.com/api/v1/users/self/todo/assignment_1632635/grading?permanent=0, ignore_permanently=https://uncc.instructure.com/api/v1/users/self/todo/assignment_1632635/grading?permanent=1, assignment={'id': 1632635, 'description': '<link rel=\"stylesheet\" href=\"https://instructure-uploads.s3.amazonaws.com/account_73010000000000001/attachments/13528794/uncc_canvas_app.css\"><p>Introduce yourself :)</p><p>This will help us all get to know each other and may come in handy when forming groups later!<br>Please tell us your<strong> preferred name</strong>, <strong>pronouns</strong>, and then anything else you\\'d like to share. Here are some ideas:</p><ul><li>Why did you take this course?</li><li>What are some future goals and how can this class help you prepare for them?</li><li>Did you do anything exciting over the summer?</li><li>Any hobbies?</li><li>An interesting or weird fact about you?</li></ul><p><strong>Some additional things to discuss that may be helpful for choosing your groups later:</strong></p><ul><li>Preferred communication methods</li><li>Time availabilities (e.g., preferring weekdays, weekends, evenings)</li><li>Background experience/knowledge (If none, don\\'t worry! That\\'s why we have this course.)<ul><li>Previous Python experience?</li><li>Previous experience with data mining/data science/machine learning?</li><li>Experience with Python libraries such as Pandas, Numpy, Matlotlib, Seaborn, Scikit Learn?</li></ul></li><li>Do you have an interest in applying data mining techniques to any particular areas (e.g., education, healthcare, sports, etc.)?</li></ul><hr><p>Here\\'s mine:</p><p>Hello hello. I\\'m Aileen (she/her), your instructor for this course. :)<br>I\\'m a 4th-year Ph.D. student and this will be my 3rd time now teaching this class. We have been adapting the course, step by step, as per previous students\\' suggestions over time. We will continue to do this, so always feel free to give us your thoughts so we can make this a valuable learning experience for everyone.</p><p>I know these self-introductions oftentimes make everyone grumble (as a student, myself included), but this will help us get to know you a little more and perhaps tailor some of the material or discussions to your interests. You all will also need to find groups once we get in the swing of things, so use this to your advantage!</p><p>I came to UNC Charlotte as an undergraduate student myself back in 2015. I admit I avoided this course in particular as a student then because I <em>did not </em>want to touch data in any way. But I did want to learn more about artificial intelligence. And as time went on, I learned just how important data is to AI, and how interesting data mining techniques are (and all the things we can do with them!).</p><p>For summer, I took June off and simply hibernated for a while. Burnout is real and mental health is important (so take care of yourselves!).<br>For hobbies -- just whatever the current hyper fixation is. Videogames, art, and trying and failing to learn violin are just a few.</p><p><strong>I am looking forward to meeting you all and having a good semester!</strong></p><script src=\"https://instructure-uploads.s3.amazonaws.com/account_73010000000000001/attachments/18362110/uncc_canvas_app.js\"></script>', 'due_at': '2022-08-26T15:00:00Z', 'unlock_at': None, 'lock_at': None, 'points_possible': 10.0, 'grading_type': 'points', 'assignment_group_id': 337451, 'grading_standard_id': None, 'created_at': '2022-08-17T19:32:02Z', 'updated_at': '2022-08-18T22:00:32Z', 'peer_reviews': False, 'automatic_peer_reviews': False, 'position': 2, 'grade_group_students_individually': False, 'anonymous_peer_reviews': False, 'group_category_id': None, 'post_to_sis': False, 'moderated_grading': False, 'omit_from_final_grade': False, 'intra_group_peer_reviews': False, 'anonymous_instructor_annotations': False, 'anonymous_grading': False, 'graders_anonymous_to_graders': False, 'grader_count': 0, 'grader_comments_visible_to_graders': True, 'final_grader_id': None, 'grader_names_visible_to_final_grader': True, 'allowed_attempts': -1, 'annotatable_attachment_id': None, 'secure_params': 'eyJ0eXAiOiJKV1QiLCJhbGciOiJIUzI1NiJ9.eyJsdGlfYXNzaWdubWVudF9pZCI6IjM2Y2VhMzFhLWNkYWItNDE5Yi04MGQ2LTViYmY1YzAzOWEwZSIsImx0aV9hc3NpZ25tZW50X2Rlc2NyaXB0aW9uIjoiXHUwMDNjcFx1MDAzZUludHJvZHVjZSB5b3Vyc2VsZiA6KVx1MDAzYy9wXHUwMDNlXHUwMDNjcFx1MDAzZVRoaXMgd2lsbCBoZWxwIHVzIGFsbCBnZXQgdG8ga25vdyBlYWNoIG90aGVyIGFuZCBtYXkgY29tZSBpbiBoYW5keSB3aGVuIGZvcm1pbmcgZ3JvdXBzIGxhdGVyIVx1MDAzY2JyXHUwMDNlUGxlYXNlIHRlbGwgdXMgeW91clx1MDAzY3N0cm9uZ1x1MDAzZSBwcmVmZXJyZWQgbmFtZVx1MDAzYy9zdHJvbmdcdTAwM2UsIFx1MDAzY3N0cm9uZ1x1MDAzZXByb25vdW5zXHUwMDNjL3N0cm9uZ1x1MDAzZSwgYW5kIHRoZW4gYW55dGhpbmcgZWxzZSB5b3UnZCBsaWtlIHRvIHNoYXJlLiBIZXJlIGFyZSBzb21lIGlkZWFzOlx1MDAzYy9wXHUwMDNlXHUwMDNjdWxcdTAwM2VcdTAwM2NsaVx1MDAzZVdoeSBkaWQgeW91IHRha2UgdGhpcyBjb3Vyc2U_XHUwMDNjL2xpXHUwMDNlXHUwMDNjbGlcdTAwM2VXaGF0IGFyZSBzb21lIGZ1dHVyZSBnb2FscyBhbmQgaG93IGNhbiB0aGlzIGNsYXNzIGhlbHAgeW91IHByZXBhcmUgZm9yIHRoZW0_XHUwMDNjL2xpXHUwMDNlXHUwMDNjbGlcdTAwM2VEaWQgeW91IGRvIGFueXRoaW5nIGV4Y2l0aW5nIG92ZXIgdGhlIHN1bW1lcj9cdTAwM2MvbGlcdTAwM2VcdTAwM2NsaVx1MDAzZUFueSBob2JiaWVzP1x1MDAzYy9saVx1MDAzZVx1MDAzY2xpXHUwMDNlQW4gaW50ZXJlc3Rpbmcgb3Igd2VpcmQgZmFjdCBhYm91dCB5b3U_XHUwMDNjL2xpXHUwMDNlXHUwMDNjL3VsXHUwMDNlXHUwMDNjcFx1MDAzZVx1MDAzY3N0cm9uZ1x1MDAzZVNvbWUgYWRkaXRpb25hbCB0aGluZ3MgdG8gZGlzY3VzcyB0aGF0IG1heSBiZSBoZWxwZnVsIGZvciBjaG9vc2luZyB5b3VyIGdyb3VwcyBsYXRlcjpcdTAwM2Mvc3Ryb25nXHUwMDNlXHUwMDNjL3BcdTAwM2VcdTAwM2N1bFx1MDAzZVx1MDAzY2xpXHUwMDNlUHJlZmVycmVkIGNvbW11bmljYXRpb24gbWV0aG9kc1x1MDAzYy9saVx1MDAzZVx1MDAzY2xpXHUwMDNlVGltZSBhdmFpbGFiaWxpdGllcyAoZS5nLiwgcHJlZmVycmluZyB3ZWVrZGF5cywgd2Vla2VuZHMsIGV2ZW5pbmdzKVx1MDAzYy9saVx1MDAzZVx1MDAzY2xpXHUwMDNlQmFja2dyb3VuZCBleHBlcmllbmNlL2tub3dsZWRnZSAoSWYgbm9uZSwgZG9uJ3Qgd29ycnkhIFRoYXQncyB3aHkgd2UgaGF2ZSB0aGlzIGNvdXJzZS4pXHUwMDNjdWxcdTAwM2VcdTAwM2NsaVx1MDAzZVByZXZpb3VzIFB5dGhvbiBleHBlcmllbmNlP1x1MDAzYy9saVx1MDAzZVx1MDAzY2xpXHUwMDNlUHJldmlvdXMgZXhwZXJpZW5jZSB3aXRoIGRhdGEgbWluaW5nL2RhdGEgc2NpZW5jZS9tYWNoaW5lIGxlYXJuaW5nP1x1MDAzYy9saVx1MDAzZVx1MDAzY2xpXHUwMDNlRXhwZXJpZW5jZSB3aXQuLi4gKHRydW5jYXRlZCkifQ.7ti6VaqbOlk-wl57BxRqNXpC_3IXo-ckSIORjeQIcv8', 'lti_context_id': '36cea31a-cdab-419b-80d6-5bbf5c039a0e', 'course_id': 176637, 'name': 'Introduce Yourself', 'submission_types': ['discussion_topic'], 'has_submitted_submissions': True, 'due_date_required': False, 'max_name_length': 255, 'in_closed_grading_period': False, 'graded_submissions_exist': True, 'vericite_enabled': False, 'vericite_settings': {'originality_report_visibility': 'immediate', 'exclude_quoted': True, 'exclude_self_plag': True, 'store_in_index': True}, 'is_quiz_assignment': False, 'can_duplicate': True, 'original_course_id': None, 'original_assignment_id': None, 'original_lti_resource_link_id': None, 'original_assignment_name': None, 'original_quiz_id': None, 'workflow_state': 'published', 'important_dates': False, 'muted': True, 'html_url': 'https://uncc.instructure.com/courses/176637/assignments/1632635', 'has_overrides': False, 'needs_grading_count': 2, 'discussion_topic': {'id': 1457898, 'title': 'Introduce Yourself', 'last_reply_at': '2022-08-23T15:59:03Z', 'created_at': '2022-08-17T19:29:51Z', 'delayed_post_at': None, 'posted_at': '2022-08-17T21:27:50Z', 'assignment_id': 1632635, 'root_topic_id': None, 'position': 1, 'podcast_has_student_posts': False, 'discussion_type': 'threaded', 'lock_at': None, 'allow_rating': True, 'only_graders_can_rate': False, 'sort_by_rating': False, 'is_section_specific': False, 'anonymous_state': None, 'user_name': 'Aileen Benedict', 'discussion_subentry_count': 57, 'permissions': {'attach': True, 'update': True, 'reply': True, 'delete': True}, 'require_initial_post': None, 'user_can_see_posts': True, 'podcast_url': None, 'read_state': 'read', 'unread_count': 47, 'subscribed': True, 'attachments': [], 'published': True, 'can_unpublish': False, 'locked': False, 'can_lock': False, 'comments_disabled': False, 'author': {'id': 29490, 'anonymous_id': 'mr6', 'display_name': 'Aileen Benedict', 'avatar_image_url': 'https://uncc.instructure.com/images/thumbnails/17129818/NKS2GIQrYj1TSywwkIyUINGJfH8dl3GmSpcus19z', 'html_url': 'https://uncc.instructure.com/courses/176637/users/29490', 'pronouns': None}, 'html_url': 'https://uncc.instructure.com/courses/176637/discussion_topics/1457898', 'url': 'https://uncc.instructure.com/courses/176637/discussion_topics/1457898', 'pinned': True, 'group_category_id': None, 'can_group': False, 'topic_children': [], 'group_topic_children': [], 'locked_for_user': False, 'message': '<link rel=\"stylesheet\" href=\"https://instructure-uploads.s3.amazonaws.com/account_73010000000000001/attachments/13528794/uncc_canvas_app.css\"><p>Introduce yourself :)</p><p>This will help us all get to know each other and may come in handy when forming groups later!<br>Please tell us your<strong> preferred name</strong>, <strong>pronouns</strong>, and then anything else you\\'d like to share. Here are some ideas:</p><ul><li>Why did you take this course?</li><li>What are some future goals and how can this class help you prepare for them?</li><li>Did you do anything exciting over the summer?</li><li>Any hobbies?</li><li>An interesting or weird fact about you?</li></ul><p><strong>Some additional things to discuss that may be helpful for choosing your groups later:</strong></p><ul><li>Preferred communication methods</li><li>Time availabilities (e.g., preferring weekdays, weekends, evenings)</li><li>Background experience/knowledge (If none, don\\'t worry! That\\'s why we have this course.)<ul><li>Previous Python experience?</li><li>Previous experience with data mining/data science/machine learning?</li><li>Experience with Python libraries such as Pandas, Numpy, Matlotlib, Seaborn, Scikit Learn?</li></ul></li><li>Do you have an interest in applying data mining techniques to any particular areas (e.g., education, healthcare, sports, etc.)?</li></ul><hr><p>Here\\'s mine:</p><p>Hello hello. I\\'m Aileen (she/her), your instructor for this course. :)<br>I\\'m a 4th-year Ph.D. student and this will be my 3rd time now teaching this class. We have been adapting the course, step by step, as per previous students\\' suggestions over time. We will continue to do this, so always feel free to give us your thoughts so we can make this a valuable learning experience for everyone.</p><p>I know these self-introductions oftentimes make everyone grumble (as a student, myself included), but this will help us get to know you a little more and perhaps tailor some of the material or discussions to your interests. You all will also need to find groups once we get in the swing of things, so use this to your advantage!</p><p>I came to UNC Charlotte as an undergraduate student myself back in 2015. I admit I avoided this course in particular as a student then because I <em>did not </em>want to touch data in any way. But I did want to learn more about artificial intelligence. And as time went on, I learned just how important data is to AI, and how interesting data mining techniques are (and all the things we can do with them!).</p><p>For summer, I took June off and simply hibernated for a while. Burnout is real and mental health is important (so take care of yourselves!).<br>For hobbies -- just whatever the current hyper fixation is. Videogames, art, and trying and failing to learn violin are just a few.</p><p><strong>I am looking forward to meeting you all and having a good semester!</strong></p><script src=\"https://instructure-uploads.s3.amazonaws.com/account_73010000000000001/attachments/18362110/uncc_canvas_app.js\"></script>', 'todo_date': None}, 'all_dates': [{'due_at': '2022-08-26T15:00:00Z', 'unlock_at': None, 'lock_at': None, 'base': True}], 'published': True, 'unpublishable': False, 'only_visible_to_overrides': False, 'locked_for_user': False, 'submissions_download_url': 'https://uncc.instructure.com/courses/176637/assignments/1632635/submissions?zip=1', 'post_manually': False, 'anonymize_students': False, 'require_lockdown_browser': False}, html_url=https://uncc.instructure.com/courses/176637/gradebook/speed_grader?assignment_id=1632635, needs_grading_count=2)"
      ]
     },
     "execution_count": 59,
     "metadata": {},
     "output_type": "execute_result"
    }
   ],
   "source": [
    "item"
   ]
  },
  {
   "cell_type": "code",
   "execution_count": 60,
   "metadata": {},
   "outputs": [],
   "source": [
    "assignment = item.assignment"
   ]
  },
  {
   "cell_type": "code",
   "execution_count": 61,
   "metadata": {},
   "outputs": [
    {
     "data": {
      "text/plain": [
       "dict_keys(['id', 'description', 'due_at', 'unlock_at', 'lock_at', 'points_possible', 'grading_type', 'assignment_group_id', 'grading_standard_id', 'created_at', 'updated_at', 'peer_reviews', 'automatic_peer_reviews', 'position', 'grade_group_students_individually', 'anonymous_peer_reviews', 'group_category_id', 'post_to_sis', 'moderated_grading', 'omit_from_final_grade', 'intra_group_peer_reviews', 'anonymous_instructor_annotations', 'anonymous_grading', 'graders_anonymous_to_graders', 'grader_count', 'grader_comments_visible_to_graders', 'final_grader_id', 'grader_names_visible_to_final_grader', 'allowed_attempts', 'annotatable_attachment_id', 'secure_params', 'lti_context_id', 'course_id', 'name', 'submission_types', 'has_submitted_submissions', 'due_date_required', 'max_name_length', 'in_closed_grading_period', 'graded_submissions_exist', 'vericite_enabled', 'vericite_settings', 'is_quiz_assignment', 'can_duplicate', 'original_course_id', 'original_assignment_id', 'original_lti_resource_link_id', 'original_assignment_name', 'original_quiz_id', 'workflow_state', 'important_dates', 'muted', 'html_url', 'has_overrides', 'needs_grading_count', 'discussion_topic', 'all_dates', 'published', 'unpublishable', 'only_visible_to_overrides', 'locked_for_user', 'submissions_download_url', 'post_manually', 'anonymize_students', 'require_lockdown_browser'])"
      ]
     },
     "execution_count": 61,
     "metadata": {},
     "output_type": "execute_result"
    }
   ],
   "source": [
    "assignment.keys()"
   ]
  },
  {
   "cell_type": "code",
   "execution_count": 62,
   "metadata": {},
   "outputs": [
    {
     "data": {
      "text/plain": [
       "'<link rel=\"stylesheet\" href=\"https://instructure-uploads.s3.amazonaws.com/account_73010000000000001/attachments/13528794/uncc_canvas_app.css\"><p>Introduce yourself :)</p><p>This will help us all get to know each other and may come in handy when forming groups later!<br>Please tell us your<strong> preferred name</strong>, <strong>pronouns</strong>, and then anything else you\\'d like to share. Here are some ideas:</p><ul><li>Why did you take this course?</li><li>What are some future goals and how can this class help you prepare for them?</li><li>Did you do anything exciting over the summer?</li><li>Any hobbies?</li><li>An interesting or weird fact about you?</li></ul><p><strong>Some additional things to discuss that may be helpful for choosing your groups later:</strong></p><ul><li>Preferred communication methods</li><li>Time availabilities (e.g., preferring weekdays, weekends, evenings)</li><li>Background experience/knowledge (If none, don\\'t worry! That\\'s why we have this course.)<ul><li>Previous Python experience?</li><li>Previous experience with data mining/data science/machine learning?</li><li>Experience with Python libraries such as Pandas, Numpy, Matlotlib, Seaborn, Scikit Learn?</li></ul></li><li>Do you have an interest in applying data mining techniques to any particular areas (e.g., education, healthcare, sports, etc.)?</li></ul><hr><p>Here\\'s mine:</p><p>Hello hello. I\\'m Aileen (she/her), your instructor for this course. :)<br>I\\'m a 4th-year Ph.D. student and this will be my 3rd time now teaching this class. We have been adapting the course, step by step, as per previous students\\' suggestions over time. We will continue to do this, so always feel free to give us your thoughts so we can make this a valuable learning experience for everyone.</p><p>I know these self-introductions oftentimes make everyone grumble (as a student, myself included), but this will help us get to know you a little more and perhaps tailor some of the material or discussions to your interests. You all will also need to find groups once we get in the swing of things, so use this to your advantage!</p><p>I came to UNC Charlotte as an undergraduate student myself back in 2015. I admit I avoided this course in particular as a student then because I <em>did not </em>want to touch data in any way. But I did want to learn more about artificial intelligence. And as time went on, I learned just how important data is to AI, and how interesting data mining techniques are (and all the things we can do with them!).</p><p>For summer, I took June off and simply hibernated for a while. Burnout is real and mental health is important (so take care of yourselves!).<br>For hobbies -- just whatever the current hyper fixation is. Videogames, art, and trying and failing to learn violin are just a few.</p><p><strong>I am looking forward to meeting you all and having a good semester!</strong></p><script src=\"https://instructure-uploads.s3.amazonaws.com/account_73010000000000001/attachments/18362110/uncc_canvas_app.js\"></script>'"
      ]
     },
     "execution_count": 62,
     "metadata": {},
     "output_type": "execute_result"
    }
   ],
   "source": [
    "assignment['description']"
   ]
  },
  {
   "cell_type": "code",
   "execution_count": 63,
   "metadata": {},
   "outputs": [],
   "source": [
    "name = assignment['name']\n",
    "course = item.context_name\n",
    "date = assignment['due_at']\n",
    "desc = assignment['description']"
   ]
  },
  {
   "cell_type": "code",
   "execution_count": 64,
   "metadata": {},
   "outputs": [
    {
     "data": {
      "text/plain": [
       "'2022-08-26T15:00:00Z'"
      ]
     },
     "execution_count": 64,
     "metadata": {},
     "output_type": "execute_result"
    }
   ],
   "source": [
    "date"
   ]
  },
  {
   "cell_type": "code",
   "execution_count": 65,
   "metadata": {},
   "outputs": [],
   "source": [
    "from datetime import datetime\n",
    "from dateutil import parser"
   ]
  },
  {
   "cell_type": "code",
   "execution_count": 66,
   "metadata": {},
   "outputs": [
    {
     "data": {
      "text/plain": [
       "'2022-08-26'"
      ]
     },
     "execution_count": 66,
     "metadata": {},
     "output_type": "execute_result"
    }
   ],
   "source": [
    "date[:10]\n"
   ]
  },
  {
   "cell_type": "code",
   "execution_count": 67,
   "metadata": {},
   "outputs": [
    {
     "data": {
      "text/plain": [
       "'2022-08-26T15:00:00Z'"
      ]
     },
     "execution_count": 67,
     "metadata": {},
     "output_type": "execute_result"
    }
   ],
   "source": [
    "str(date)"
   ]
  },
  {
   "cell_type": "code",
   "execution_count": 68,
   "metadata": {},
   "outputs": [
    {
     "name": "stdout",
     "output_type": "stream",
     "text": [
      "[Quiz] Syllabus Quiz submitting\n",
      "\n",
      "Introduce Yourself grading\n",
      "\n",
      "BEGIN:  Syllabus Quiz   💾  submitting\n",
      "\n",
      "POST: Welcome Blog  💾  submitting\n",
      "\n"
     ]
    }
   ],
   "source": [
    "for i in todo:\n",
    "    print(i.assignment['name'], i.type)\n",
    "    print()"
   ]
  },
  {
   "cell_type": "markdown",
   "metadata": {},
   "source": []
  },
  {
   "cell_type": "code",
   "execution_count": 69,
   "metadata": {},
   "outputs": [],
   "source": [
    "from bs4 import BeautifulSoup"
   ]
  },
  {
   "cell_type": "code",
   "execution_count": 70,
   "metadata": {},
   "outputs": [
    {
     "data": {
      "text/plain": [
       "'<link rel=\"stylesheet\" href=\"https://instructure-uploads.s3.amazonaws.com/account_73010000000000001/attachments/13528794/uncc_canvas_app.css\"><p>Introduce yourself :)</p><p>This will help us all get to know each other and may come in handy when forming groups later!<br>Please tell us your<strong> preferred name</strong>, <strong>pronouns</strong>, and then anything else you\\'d like to share. Here are some ideas:</p><ul><li>Why did you take this course?</li><li>What are some future goals and how can this class help you prepare for them?</li><li>Did you do anything exciting over the summer?</li><li>Any hobbies?</li><li>An interesting or weird fact about you?</li></ul><p><strong>Some additional things to discuss that may be helpful for choosing your groups later:</strong></p><ul><li>Preferred communication methods</li><li>Time availabilities (e.g., preferring weekdays, weekends, evenings)</li><li>Background experience/knowledge (If none, don\\'t worry! That\\'s why we have this course.)<ul><li>Previous Python experience?</li><li>Previous experience with data mining/data science/machine learning?</li><li>Experience with Python libraries such as Pandas, Numpy, Matlotlib, Seaborn, Scikit Learn?</li></ul></li><li>Do you have an interest in applying data mining techniques to any particular areas (e.g., education, healthcare, sports, etc.)?</li></ul><hr><p>Here\\'s mine:</p><p>Hello hello. I\\'m Aileen (she/her), your instructor for this course. :)<br>I\\'m a 4th-year Ph.D. student and this will be my 3rd time now teaching this class. We have been adapting the course, step by step, as per previous students\\' suggestions over time. We will continue to do this, so always feel free to give us your thoughts so we can make this a valuable learning experience for everyone.</p><p>I know these self-introductions oftentimes make everyone grumble (as a student, myself included), but this will help us get to know you a little more and perhaps tailor some of the material or discussions to your interests. You all will also need to find groups once we get in the swing of things, so use this to your advantage!</p><p>I came to UNC Charlotte as an undergraduate student myself back in 2015. I admit I avoided this course in particular as a student then because I <em>did not </em>want to touch data in any way. But I did want to learn more about artificial intelligence. And as time went on, I learned just how important data is to AI, and how interesting data mining techniques are (and all the things we can do with them!).</p><p>For summer, I took June off and simply hibernated for a while. Burnout is real and mental health is important (so take care of yourselves!).<br>For hobbies -- just whatever the current hyper fixation is. Videogames, art, and trying and failing to learn violin are just a few.</p><p><strong>I am looking forward to meeting you all and having a good semester!</strong></p><script src=\"https://instructure-uploads.s3.amazonaws.com/account_73010000000000001/attachments/18362110/uncc_canvas_app.js\"></script>'"
      ]
     },
     "execution_count": 70,
     "metadata": {},
     "output_type": "execute_result"
    }
   ],
   "source": [
    "desc"
   ]
  },
  {
   "cell_type": "code",
   "execution_count": 71,
   "metadata": {},
   "outputs": [],
   "source": [
    "soup = BeautifulSoup(desc)"
   ]
  },
  {
   "cell_type": "code",
   "execution_count": 72,
   "metadata": {},
   "outputs": [
    {
     "name": "stdout",
     "output_type": "stream",
     "text": [
      "<link href=\"https://instructure-uploads.s3.amazonaws.com/account_73010000000000001/attachments/13528794/uncc_canvas_app.css\" rel=\"stylesheet\"/><p>Introduce yourself :)</p><p>This will help us all get to know each other and may come in handy when forming groups later!<br/>Please tell us your<strong> preferred name</strong>, <strong>pronouns</strong>, and then anything else you'd like to share. Here are some ideas:</p><ul><li>Why did you take this course?</li><li>What are some future goals and how can this class help you prepare for them?</li><li>Did you do anything exciting over the summer?</li><li>Any hobbies?</li><li>An interesting or weird fact about you?</li></ul><p><strong>Some additional things to discuss that may be helpful for choosing your groups later:</strong></p><ul><li>Preferred communication methods</li><li>Time availabilities (e.g., preferring weekdays, weekends, evenings)</li><li>Background experience/knowledge (If none, don't worry! That's why we have this course.)<ul><li>Previous Python experience?</li><li>Previous experience with data mining/data science/machine learning?</li><li>Experience with Python libraries such as Pandas, Numpy, Matlotlib, Seaborn, Scikit Learn?</li></ul></li><li>Do you have an interest in applying data mining techniques to any particular areas (e.g., education, healthcare, sports, etc.)?</li></ul><hr/><p>Here's mine:</p><p>Hello hello. I'm Aileen (she/her), your instructor for this course. :)<br/>I'm a 4th-year Ph.D. student and this will be my 3rd time now teaching this class. We have been adapting the course, step by step, as per previous students' suggestions over time. We will continue to do this, so always feel free to give us your thoughts so we can make this a valuable learning experience for everyone.</p><p>I know these self-introductions oftentimes make everyone grumble (as a student, myself included), but this will help us get to know you a little more and perhaps tailor some of the material or discussions to your interests. You all will also need to find groups once we get in the swing of things, so use this to your advantage!</p><p>I came to UNC Charlotte as an undergraduate student myself back in 2015. I admit I avoided this course in particular as a student then because I <em>did not </em>want to touch data in any way. But I did want to learn more about artificial intelligence. And as time went on, I learned just how important data is to AI, and how interesting data mining techniques are (and all the things we can do with them!).</p><p>For summer, I took June off and simply hibernated for a while. Burnout is real and mental health is important (so take care of yourselves!).<br/>For hobbies -- just whatever the current hyper fixation is. Videogames, art, and trying and failing to learn violin are just a few.</p><p><strong>I am looking forward to meeting you all and having a good semester!</strong></p><script src=\"https://instructure-uploads.s3.amazonaws.com/account_73010000000000001/attachments/18362110/uncc_canvas_app.js\"></script>\n"
     ]
    }
   ],
   "source": [
    "print(soup)"
   ]
  },
  {
   "cell_type": "code",
   "execution_count": 74,
   "metadata": {},
   "outputs": [],
   "source": [
    "test = soup.get_text()"
   ]
  },
  {
   "cell_type": "code",
   "execution_count": 77,
   "metadata": {},
   "outputs": [
    {
     "data": {
      "text/plain": [
       "2000"
      ]
     },
     "execution_count": 77,
     "metadata": {},
     "output_type": "execute_result"
    }
   ],
   "source": [
    "len(test[:2000])"
   ]
  },
  {
   "cell_type": "code",
   "execution_count": null,
   "metadata": {},
   "outputs": [],
   "source": []
  }
 ],
 "metadata": {
  "interpreter": {
   "hash": "d5a701228efb786e5fc9bf23ec6e9ba3a4a104b7ee990928ba07bca394b056cb"
  },
  "kernelspec": {
   "display_name": "Python 3.10.4 ('.venv': venv)",
   "language": "python",
   "name": "python3"
  },
  "language_info": {
   "codemirror_mode": {
    "name": "ipython",
    "version": 3
   },
   "file_extension": ".py",
   "mimetype": "text/x-python",
   "name": "python",
   "nbconvert_exporter": "python",
   "pygments_lexer": "ipython3",
   "version": "3.10.4"
  },
  "orig_nbformat": 4
 },
 "nbformat": 4,
 "nbformat_minor": 2
}
